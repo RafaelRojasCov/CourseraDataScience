{
 "cells": [
  {
   "cell_type": "markdown",
   "metadata": {},
   "source": [
    "# Tools for Data Science - Coursera Project"
   ]
  },
  {
   "cell_type": "markdown",
   "metadata": {},
   "source": [
    "## Introduction\n",
    "\n",
    "This notebook addresses the fundamental concepts of Data Science and presents practical examples to better understand the topic."
   ]
  },
  {
   "cell_type": "markdown",
   "metadata": {},
   "source": [
    "## Data Science Languages\n",
    "\n",
    "1. Python\n",
    "2. R\n",
    "3. SQL\n",
    "4. Java\n",
    "5. Julia"
   ]
  },
  {
   "cell_type": "markdown",
   "metadata": {},
   "source": [
    "## Data Science Libraries\n",
    "\n",
    "1. Pandas\n",
    "2. NumPy\n",
    "3. Matplotlib\n",
    "4. Scikit-learn\n",
    "5. TensorFlow"
   ]
  },
  {
   "cell_type": "markdown",
   "metadata": {},
   "source": [
    "## Data Science Tools\n",
    "\n",
    "| Tool             | Description                          |\n",
    "| ---------------- | ------------------------------------ |\n",
    "| Jupyter Notebook | Environment to create and share code |\n",
    "| RStudio          | IDE for R                            |\n",
    "| Anaconda         | Python and R Distribution            |\n",
    "| Tableau          | Data visualization                   |\n",
    "| Apache Spark     | Large scale data processing          |\n"
   ]
  },
  {
   "cell_type": "markdown",
   "metadata": {},
   "source": [
    "## Examples of arithmetic expressions\n",
    "\n",
    "- Sum: `5 + 3`\n",
    "- Subtraction: `5 - 3`\n",
    "- Multiplication: `5 * 3`\n",
    "- Division: `5/3`"
   ]
  },
  {
   "cell_type": "markdown",
   "metadata": {},
   "source": [
    "## Multiplication and addition of numbers"
   ]
  },
  {
   "cell_type": "code",
   "execution_count": 16,
   "metadata": {},
   "outputs": [
    {
     "name": "stdout",
     "output_type": "stream",
     "text": [
      "2100\n"
     ]
    }
   ],
   "source": [
    "a = 100\n",
    "b = 20\n",
    "result = a * b + a\n",
    "\n",
    "print(result)"
   ]
  },
  {
   "cell_type": "markdown",
   "metadata": {},
   "source": [
    "## Conversion from minutes to hours"
   ]
  },
  {
   "cell_type": "code",
   "execution_count": 1,
   "metadata": {},
   "outputs": [
    {
     "name": "stdout",
     "output_type": "stream",
     "text": [
      "200 minutes, are equivalent to 3.3333333333333335 hours\n"
     ]
    }
   ],
   "source": [
    "minutes = 200\n",
    "hours = minutes / 60\n",
    "\n",
    "print(minutes, \"minutes, are equivalent to\", hours, \"hours\")"
   ]
  },
  {
   "cell_type": "markdown",
   "metadata": {},
   "source": [
    "## List Objectives"
   ]
  },
  {
   "cell_type": "code",
   "execution_count": 3,
   "metadata": {},
   "outputs": [
    {
     "name": "stdout",
     "output_type": "stream",
     "text": [
      "- Learn the fundamentals of data science\n",
      "- Implement machine learning models\n",
      "- Visualize data effectively\n",
      "- Understand data preprocessing\n",
      "- Explore big data technologies\n"
     ]
    }
   ],
   "source": [
    "objectives = [\"Learn the fundamentals of data science\",\n",
    "             \"Implement machine learning models\",\n",
    "             \"Visualize data effectively\",\n",
    "             \"Understand data preprocessing\",\n",
    "             \"Explore big data technologies\"]\n",
    "\n",
    "print("\n")",
    "for i, objective in enumerate(objectives, 1):\n",
    "  print(f\"- {objective}\")",
    "print("\n")"
   ]
  },
  {
   "cell_type": "markdown",
   "metadata": {},
   "source": [
    "## Author\n",
    "\n",
    "Rafael Rojas."
   ]
  }
 ],
 "metadata": {
  "kernelspec": {
   "display_name": "Python 3",
   "language": "python",
   "name": "python3"
  },
  "language_info": {
   "codemirror_mode": {
    "name": "ipython",
    "version": 3
   },
   "file_extension": ".py",
   "mimetype": "text/x-python",
   "name": "python",
   "nbconvert_exporter": "python",
   "pygments_lexer": "ipython3",
   "version": "3.9.6"
  }
 },
 "nbformat": 4,
 "nbformat_minor": 2
}
